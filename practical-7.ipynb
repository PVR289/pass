{
 "cells": [
  {
   "cell_type": "code",
   "execution_count": 1,
   "id": "297cbda7",
   "metadata": {},
   "outputs": [
    {
     "data": {
      "text/plain": [
       "'C:\\\\Users\\\\student'"
      ]
     },
     "execution_count": 1,
     "metadata": {},
     "output_type": "execute_result"
    }
   ],
   "source": [
    "import os\n",
    "os.getcwd()"
   ]
  },
  {
   "cell_type": "code",
   "execution_count": 16,
   "id": "00ff7d43",
   "metadata": {},
   "outputs": [
    {
     "name": "stdout",
     "output_type": "stream",
     "text": [
      "File is present\n",
      "<_io.TextIOWrapper name='hello.txt' mode='r' encoding='cp1252'>\n"
     ]
    }
   ],
   "source": [
    "try:\n",
    "    with open('hello.txt','r') as a:\n",
    "        print(\"File is present\")\n",
    "except FileNotFound as e:\n",
    "    print('File is not found !!{e}')\n",
    "\n",
    "with open(\"hello.txt\", 'w') as f:\n",
    "    f.write('hello there\\n')\n",
    "    f.write('Vishal here -65 (IT)\\n')\n",
    "    f.write('Lab practical no. 7.1')\n",
    "    f.close()\n",
    "    \n",
    "r=open(\"hello.txt\",'r')\n",
    "print(r)\n",
    "\n"
   ]
  },
  {
   "cell_type": "code",
   "execution_count": 18,
   "id": "f58ae754",
   "metadata": {},
   "outputs": [
    {
     "name": "stdout",
     "output_type": "stream",
     "text": [
      "Enter the number to check weather number is -ve, 0, +ve6\n",
      "Entered number is positive\n"
     ]
    }
   ],
   "source": [
    "try:\n",
    "    a=int(input(\"Enter the number to check weather number is -ve, 0, +ve\"))\n",
    "    if(a<0):\n",
    "        raise negativeException\n",
    "    elif(a==0):\n",
    "        raise zeroException\n",
    "    else:\n",
    "        print(\"Entered number is positive\")\n",
    "        \n",
    "except negativeException:\n",
    "    print(\"Entered number is negative\")\n",
    "    \n",
    "except zeroException:\n",
    "    print(\"Entered number is zero\")\n",
    "    "
   ]
  },
  {
   "cell_type": "code",
   "execution_count": null,
   "id": "15034bfb",
   "metadata": {},
   "outputs": [],
   "source": [
    "try:\n",
    "    a=float(input(\"Enter oparand1: \"))\n",
    "    c=input(\"Enter the operation to be performed: \")\n",
    "    b=float(input(\"Enter operand2: \"))\n",
    "    if(a=='+'):\n",
    "        print('a+b', a+b)\n",
    "    if(b=='-'):\n",
    "        print('')"
   ]
  }
 ],
 "metadata": {
  "kernelspec": {
   "display_name": "Python 3 (ipykernel)",
   "language": "python",
   "name": "python3"
  },
  "language_info": {
   "codemirror_mode": {
    "name": "ipython",
    "version": 3
   },
   "file_extension": ".py",
   "mimetype": "text/x-python",
   "name": "python",
   "nbconvert_exporter": "python",
   "pygments_lexer": "ipython3",
   "version": "3.9.12"
  }
 },
 "nbformat": 4,
 "nbformat_minor": 5
}
